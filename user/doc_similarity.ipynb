{
 "cells": [
  {
   "cell_type": "code",
   "execution_count": 1,
   "id": "9dfdb1c7-56e5-4ff3-8c0b-bd18d76af325",
   "metadata": {},
   "outputs": [],
   "source": [
    "MODEL_ID = 'sentence-transformers/all-MiniLM-L6-v2'"
   ]
  },
  {
   "cell_type": "code",
   "execution_count": 9,
   "id": "b65ecfee-c262-437c-ad66-881f4753f3f8",
   "metadata": {},
   "outputs": [],
   "source": [
    "documents = [\n",
    "    \"Virat Kohli is an Indian cricketer known for his aggressive batting and leadership.\",\n",
    "    \"MS Dhoni is a former Indian captain famous for his calm demeanor and finishing skills.\",\n",
    "    \"Sachin Tendulkar, also known as the 'God of Cricket', holds many batting records.\",\n",
    "    \"Rohit Sharma is known for his elegant batting and record-breaking double centuries.\",\n",
    "    \"Jasprit Bumrah is an Indian fast bowler known for his unorthodox action and yorkers.\"\n",
    "]\n",
    "\n",
    "query = 'Tell me about Rohit'"
   ]
  },
  {
   "cell_type": "code",
   "execution_count": 4,
   "id": "cd69129d-67a9-48a3-a02b-e4bb1f8e6107",
   "metadata": {},
   "outputs": [],
   "source": [
    "from langchain_huggingface import HuggingFaceEmbeddings\n",
    "model = HuggingFaceEmbeddings(\n",
    "    model_name = MODEL_ID\n",
    ")"
   ]
  },
  {
   "cell_type": "code",
   "execution_count": 5,
   "id": "d6c1e739-71f6-477a-9859-bed8a4320529",
   "metadata": {},
   "outputs": [],
   "source": [
    "vectordb = model.embed_documents(documents)"
   ]
  },
  {
   "cell_type": "code",
   "execution_count": 10,
   "id": "afd55e65-f8f8-441d-9f12-fbf85566bdc1",
   "metadata": {},
   "outputs": [],
   "source": [
    "embed_query = model.embed_query(query)"
   ]
  },
  {
   "cell_type": "code",
   "execution_count": 11,
   "id": "5fffbf13-dbfb-442e-a96c-8e225f171ed8",
   "metadata": {},
   "outputs": [],
   "source": [
    "from sklearn.metrics.pairwise import cosine_similarity\n",
    "results = cosine_similarity([embed_query], vectordb)"
   ]
  },
  {
   "cell_type": "code",
   "execution_count": 12,
   "id": "2cfc4c6e-eeee-4144-a264-94b6f2f47540",
   "metadata": {},
   "outputs": [
    {
     "name": "stdout",
     "output_type": "stream",
     "text": [
      "result: Rohit Sharma is known for his elegant batting and record-breaking double centuries.. \n",
      "score: 0.5308592240004494\n"
     ]
    }
   ],
   "source": [
    "index, score = sorted(enumerate(results[0]), key = lambda x: x[1])[-1]\n",
    "print(f'result: {documents[index]}. \\nscore: {score}')"
   ]
  },
  {
   "cell_type": "code",
   "execution_count": null,
   "id": "c412014e-e54d-4418-be26-77118d1848f6",
   "metadata": {},
   "outputs": [],
   "source": []
  }
 ],
 "metadata": {
  "kernelspec": {
   "display_name": "Python 3 (ipykernel)",
   "language": "python",
   "name": "python3"
  },
  "language_info": {
   "codemirror_mode": {
    "name": "ipython",
    "version": 3
   },
   "file_extension": ".py",
   "mimetype": "text/x-python",
   "name": "python",
   "nbconvert_exporter": "python",
   "pygments_lexer": "ipython3",
   "version": "3.11.11"
  }
 },
 "nbformat": 4,
 "nbformat_minor": 5
}
